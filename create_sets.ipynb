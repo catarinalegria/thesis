{
 "cells": [
  {
   "cell_type": "code",
   "execution_count": 1,
   "metadata": {},
   "outputs": [],
   "source": [
    "import requests\n",
    "import json\n",
    "\n",
    "import random"
   ]
  },
  {
   "cell_type": "code",
   "execution_count": 2,
   "metadata": {},
   "outputs": [],
   "source": [
    "seasons = []\n",
    "\n",
    "for i in range(1,11):\n",
    "\n",
    "    # load season i\n",
    "    if i<10:\n",
    "        json_file = 'https://raw.githubusercontent.com/emorynlp/character-mining/master/json/friends_season_0'+str(i)+'.json'\n",
    "    else:\n",
    "        json_file = 'https://raw.githubusercontent.com/emorynlp/character-mining/master/json/friends_season_10.json'\n",
    "    \n",
    "    r = requests.get(json_file)\n",
    "    \n",
    "    seasons.append(json.loads(r.text))"
   ]
  },
  {
   "cell_type": "code",
   "execution_count": 22,
   "metadata": {},
   "outputs": [],
   "source": [
    "#test set 1: season 10\n",
    "\n",
    "test_set = []\n",
    "\n",
    "for episode in seasons[9]['episodes']:\n",
    "    for scene in episode['scenes']:\n",
    "        for utterance in scene['utterances']:\n",
    "            if utterance['speakers'] != []:\n",
    "                test_set.append(utterance)\n",
    "\n",
    "\n",
    "train_set = []\n",
    "for season in seasons:\n",
    "    for episode in season['episodes']:\n",
    "        for scene in episode['scenes']:\n",
    "            for utterance in scene['utterances']:\n",
    "                if utterance['speakers'] != [] and utterance not in test_set:\n",
    "                    train_set.append(utterance)\n",
    "\n"
   ]
  },
  {
   "cell_type": "code",
   "execution_count": 23,
   "metadata": {},
   "outputs": [],
   "source": [
    "with open(\"sets/test_set1.json\", \"w\") as outfile:\n",
    "    json.dump(test_set, outfile)\n",
    "\n",
    "\n",
    "with open(\"sets/train_set1.json\", \"w\") as outfile:\n",
    "    json.dump(train_set, outfile)"
   ]
  },
  {
   "cell_type": "code",
   "execution_count": 17,
   "metadata": {},
   "outputs": [],
   "source": [
    "#test set 2: 10% of utterances from each season\n",
    "\n",
    "all_seasons = []\n",
    "for season in seasons:\n",
    "    utterances = []\n",
    "    selection = []\n",
    "    for episode in season['episodes']:\n",
    "        for scene in episode['scenes']:\n",
    "            for utterance in scene['utterances']:\n",
    "                if utterance['speakers'] != []:\n",
    "                    utterances.append(utterance)\n",
    "\n",
    "    num_elements = len(utterances)\n",
    "    num_elements_to_extract = int(num_elements * 0.1)  # Calculate 10% of the total elements\n",
    "    selection = random.sample(utterances, num_elements_to_extract)\n",
    "\n",
    "    all_seasons.append(selection)\n",
    "\n",
    "\n",
    "test_set = []\n",
    "for season in all_seasons:\n",
    "    for utterance in season:\n",
    "        test_set.append(utterance)\n",
    "\n",
    "train_set = []\n",
    "for season in seasons:\n",
    "    for episode in season['episodes']:\n",
    "        for scene in episode['scenes']:\n",
    "            for utterance in scene['utterances']:\n",
    "                if utterance['speakers'] != [] and utterance not in test_set:\n",
    "                    train_set.append(utterance)\n",
    "\n"
   ]
  },
  {
   "cell_type": "code",
   "execution_count": 21,
   "metadata": {},
   "outputs": [],
   "source": [
    "with open(\"sets/test_set2.json\", \"w\") as outfile:\n",
    "    json.dump(test_set, outfile)\n",
    "\n",
    "\n",
    "with open(\"sets/train_set2.json\", \"w\") as outfile:\n",
    "    json.dump(train_set, outfile)"
   ]
  },
  {
   "cell_type": "code",
   "execution_count": null,
   "metadata": {},
   "outputs": [],
   "source": []
  }
 ],
 "metadata": {
  "kernelspec": {
   "display_name": "nkproj",
   "language": "python",
   "name": "nkproj"
  },
  "language_info": {
   "codemirror_mode": {
    "name": "ipython",
    "version": 3
   },
   "file_extension": ".py",
   "mimetype": "text/x-python",
   "name": "python",
   "nbconvert_exporter": "python",
   "pygments_lexer": "ipython3",
   "version": "3.10.10"
  },
  "orig_nbformat": 4
 },
 "nbformat": 4,
 "nbformat_minor": 2
}
