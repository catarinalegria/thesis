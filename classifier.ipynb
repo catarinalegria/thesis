{
 "cells": [
  {
   "cell_type": "code",
   "execution_count": 62,
   "metadata": {},
   "outputs": [],
   "source": [
    "import pandas as pd\n",
    "from sklearn.model_selection import train_test_split\n",
    "\n",
    "from sklearn.feature_extraction.text import CountVectorizer\n",
    "from sklearn.naive_bayes import MultinomialNB\n",
    "import pandas as pd\n",
    "\n",
    "from sklearn.metrics import accuracy_score\n",
    "\n",
    "from scipy.sparse import hstack\n",
    "from sklearn.preprocessing import LabelEncoder\n"
   ]
  },
  {
   "attachments": {},
   "cell_type": "markdown",
   "metadata": {},
   "source": [
    "Generate test and training sets"
   ]
  },
  {
   "cell_type": "code",
   "execution_count": null,
   "metadata": {},
   "outputs": [],
   "source": [
    "# Load the CSV file into a Pandas DataFrame\n",
    "df = pd.read_csv('friends.csv')\n",
    "\n",
    "# Split the dataset into training and testing sets\n",
    "train_df, test_df = train_test_split(df, test_size=0.2, random_state=42)\n",
    "\n",
    "# Create the training data with only 'character' and 'line' columns\n",
    "train_data = train_df[['character', 'line']]\n",
    "\n",
    "# Create the testing data with only the 'line' column\n",
    "test_data = test_df[['character', 'line']]\n",
    "\n",
    "print(test_data)\n",
    "\n",
    "#test_data.to_csv('test.csv',index=False)\n",
    "\n",
    "#for index, row in test_data.iterrows():\n",
    "#   print(index)\n",
    "#   print(row)\n",
    "\n"
   ]
  },
  {
   "cell_type": "code",
   "execution_count": null,
   "metadata": {},
   "outputs": [],
   "source": [
    "# Define the labels\n",
    "labels = [\"Rachel\", \"Monica\", \"Joey\", \"Chandler\", \"Ross\", \"Phoebe\"]\n",
    "\n",
    "# Vectorize the text data using the bag-of-words approach\n",
    "vectorizer = CountVectorizer()\n",
    "train_vectors = vectorizer.fit_transform(train_data['line'])\n",
    "test_vectors = vectorizer.transform(test_data['line'])\n",
    "\n",
    "# Train the Naive Bayes classifier\n",
    "clf = MultinomialNB()\n",
    "clf.fit(train_vectors, train_data['character'])\n",
    "\n",
    "# Classify the test set\n",
    "test_predictions = clf.predict(test_vectors)\n",
    "\n",
    "# Print the predicted labels for the test set\n",
    "i=0\n",
    "for index, row in test_data.iterrows():\n",
    "    #print(\"Line {}: {}\".format(i+1, test_data['line'][i]))\n",
    "    print(\"Line {}: {}\".format(i+1, row))\n",
    "    print(\"Predicted character: {}\\n\".format(test_predictions[i]))\n",
    "    i+=1"
   ]
  },
  {
   "cell_type": "code",
   "execution_count": 52,
   "metadata": {},
   "outputs": [
    {
     "name": "stdout",
     "output_type": "stream",
     "text": [
      "Accuracy: 30.70%\n"
     ]
    }
   ],
   "source": [
    "# Load the actual labels from the test set\n",
    "test_labels = test_data['character']\n",
    "\n",
    "# Calculate the accuracy of the predictions\n",
    "accuracy = accuracy_score(test_labels, test_predictions)\n",
    "\n",
    "print(\"Accuracy: {:.2f}%\".format(accuracy*100))"
   ]
  },
  {
   "cell_type": "code",
   "execution_count": 69,
   "metadata": {},
   "outputs": [
    {
     "name": "stdout",
     "output_type": "stream",
     "text": [
      "Accuracy: 31.56%\n"
     ]
    }
   ],
   "source": [
    "# Vectorize the text data using trigrams\n",
    "vectorizer = CountVectorizer(ngram_range=(1, 5))\n",
    "train_vectors = vectorizer.fit_transform(train_data['line'])\n",
    "test_vectors = vectorizer.transform(test_data['line'])\n",
    "\n",
    "# Train the Naive Bayes classifier\n",
    "clf = MultinomialNB()\n",
    "clf.fit(train_vectors, train_data['character'])\n",
    "\n",
    "# Classify the test set\n",
    "test_predictions = clf.predict(test_vectors)\n",
    "\n",
    "# Calculate the accuracy of the predictions\n",
    "from sklearn.metrics import accuracy_score\n",
    "accuracy = accuracy_score(test_data['character'], test_predictions)\n",
    "print(\"Accuracy: {:.2f}%\".format(accuracy*100))"
   ]
  },
  {
   "cell_type": "code",
   "execution_count": 68,
   "metadata": {},
   "outputs": [
    {
     "name": "stdout",
     "output_type": "stream",
     "text": [
      "Accuracy: 32.68%\n"
     ]
    }
   ],
   "source": [
    "# Vectorize the text data using word frequencies and part-of-speech tags\n",
    "vectorizer1 = CountVectorizer()\n",
    "vectorizer2 = CountVectorizer(ngram_range=(1, 5), analyzer='char')\n",
    "X1_train = vectorizer1.fit_transform(train_data['line'])\n",
    "X2_train = vectorizer2.fit_transform(train_data['line'])\n",
    "X_train = hstack([X1_train, X2_train])\n",
    "X1_test = vectorizer1.transform(test_data['line'])\n",
    "X2_test = vectorizer2.transform(test_data['line'])\n",
    "X_test = hstack([X1_test, X2_test])\n",
    "\n",
    "# Encode the class labels\n",
    "le = LabelEncoder()\n",
    "y_train = le.fit_transform(train_data['character'])\n",
    "y_test = le.transform(test_data['character'])\n",
    "\n",
    "# Train the Naive Bayes classifier\n",
    "clf = MultinomialNB()\n",
    "clf.fit(X_train, y_train)\n",
    "\n",
    "# Classify the test set\n",
    "test_predictions = clf.predict(X_test)\n",
    "\n",
    "# Decode the predicted class labels\n",
    "predicted_labels = le.inverse_transform(test_predictions)\n",
    "\n",
    "# Calculate the accuracy of the predictions\n",
    "from sklearn.metrics import accuracy_score\n",
    "accuracy = accuracy_score(test_data['character'], predicted_labels)\n",
    "print(\"Accuracy: {:.2f}%\".format(accuracy*100))"
   ]
  },
  {
   "attachments": {},
   "cell_type": "markdown",
   "metadata": {},
   "source": [
    "tf-idf"
   ]
  },
  {
   "attachments": {},
   "cell_type": "markdown",
   "metadata": {},
   "source": [
    "contexto (adicionar frases em conj)"
   ]
  },
  {
   "attachments": {},
   "cell_type": "markdown",
   "metadata": {},
   "source": [
    "test set por season/seaons"
   ]
  },
  {
   "cell_type": "markdown",
   "metadata": {},
   "source": []
  }
 ],
 "metadata": {
  "kernelspec": {
   "display_name": "Python 3",
   "language": "python",
   "name": "python3"
  },
  "language_info": {
   "codemirror_mode": {
    "name": "ipython",
    "version": 3
   },
   "file_extension": ".py",
   "mimetype": "text/x-python",
   "name": "python",
   "nbconvert_exporter": "python",
   "pygments_lexer": "ipython3",
   "version": "3.11.2"
  },
  "orig_nbformat": 4
 },
 "nbformat": 4,
 "nbformat_minor": 2
}
