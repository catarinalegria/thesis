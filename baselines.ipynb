{
 "cells": [
  {
   "cell_type": "code",
   "execution_count": 17,
   "metadata": {},
   "outputs": [],
   "source": [
    "from sklearn.feature_extraction.text import CountVectorizer\n",
    "from sklearn.naive_bayes import MultinomialNB\n",
    "import pandas as pd\n",
    "\n",
    "from sklearn.metrics import accuracy_score\n",
    "\n",
    "from scipy.sparse import hstack\n",
    "from sklearn.metrics import confusion_matrix\n",
    "\n",
    "import requests\n",
    "import json\n",
    "\n",
    "import numpy as np\n",
    "\n",
    "import random\n"
   ]
  },
  {
   "cell_type": "code",
   "execution_count": 20,
   "metadata": {},
   "outputs": [],
   "source": [
    "characters = ['Monica Geller', 'Joey Tribbiani', 'Chandler Bing', 'Phoebe Buffay', 'Ross Geller', 'Rachel Green', 'others']\n",
    "\n",
    "#test set 1 = season 8\n",
    "\n",
    "with open('sets/test_set1.json') as f:\n",
    "    test_set1 = json.load(f)\n",
    "\n",
    "with open('sets/train_set1.json') as f:\n",
    "    train_set1 = json.load(f)\n",
    "\n",
    "################################################################\n",
    "\n",
    "#test set 2 = 10% of each season\n",
    "\n",
    "with open('sets/test_set2.json') as f:\n",
    "    test_set2 = json.load(f)\n",
    "\n",
    "with open('sets/train_set2.json') as f:\n",
    "    train_set2 = json.load(f)\n",
    "\n",
    "\n",
    "#CHANGE HERE\n",
    "test_set = test_set2\n",
    "train_set = train_set2"
   ]
  },
  {
   "cell_type": "markdown",
   "metadata": {},
   "source": [
    "Random Embeddings"
   ]
  },
  {
   "cell_type": "code",
   "execution_count": 21,
   "metadata": {},
   "outputs": [],
   "source": [
    "for character in characters:\n",
    "    character_lines = []\n",
    "    for line in train_set:\n",
    "        if character != 'others' and character in line['speakers']:\n",
    "            character_lines.append(line['transcript'])\n",
    "        elif character == 'others' and line['speakers'][0] not in characters:\n",
    "            character_lines.append(line['transcript'])\n",
    "\n",
    "    #change x for number of lines \n",
    "    values = [2000]\n",
    "\n",
    "    for x in values:\n",
    "\n",
    "        randomlist = random.sample(character_lines, x)\n",
    "\n",
    "        f = open(\"embeddings\" + \"/\" + character + str(x)+ \".txt\", \"w\")\n",
    "        for line in randomlist:\n",
    "            f.write(line+\"\\n\")\n",
    "        f.close()"
   ]
  },
  {
   "cell_type": "markdown",
   "metadata": {},
   "source": [
    "Machine Learning: Nayve Bayes"
   ]
  },
  {
   "cell_type": "code",
   "execution_count": 16,
   "metadata": {},
   "outputs": [
    {
     "name": "stdout",
     "output_type": "stream",
     "text": [
      "Accuracy: 24.81%\n"
     ]
    }
   ],
   "source": [
    "train_set_lines = []\n",
    "train_set_speakers = []\n",
    "\n",
    "for utterance in train_set:\n",
    "    #ensure it is NOT a scene annotation and it is an actual line\n",
    "    if utterance['speakers']!= []:\n",
    "        train_set_lines.append(utterance['transcript'])\n",
    "        train_set_speakers.append(utterance['speakers'][0])\n",
    "\n",
    "\n",
    "test_set_lines = []\n",
    "test_set_speakers = []\n",
    "\n",
    "for utterance in test_set:\n",
    "    #ensure it is NOT a scene annotation and it is an actual line\n",
    "    if utterance['speakers']!= []:\n",
    "        test_set_lines.append(utterance['transcript'])\n",
    "        test_set_speakers.append(utterance['speakers'][0])\n",
    "\n",
    "# Word Counts\n",
    "vectorizer = CountVectorizer()\n",
    "train_vectors = vectorizer.fit_transform(train_set_lines)\n",
    "test_vectors = vectorizer.transform(test_set_lines)\n",
    "\n",
    "# Train the Naive Bayes classifier\n",
    "clf = MultinomialNB()\n",
    "clf.fit(train_vectors, train_set_speakers)\n",
    "\n",
    "# Classify the test set\n",
    "test_predictions = clf.predict(test_vectors)\n",
    "\n",
    "accuracy = accuracy_score(test_set_speakers, test_predictions)\n",
    "\n",
    "print(\"Accuracy: {:.2f}%\".format(accuracy*100))"
   ]
  }
 ],
 "metadata": {
  "kernelspec": {
   "display_name": "Python 3",
   "language": "python",
   "name": "python3"
  },
  "language_info": {
   "codemirror_mode": {
    "name": "ipython",
    "version": 3
   },
   "file_extension": ".py",
   "mimetype": "text/x-python",
   "name": "python",
   "nbconvert_exporter": "python",
   "pygments_lexer": "ipython3",
   "version": "3.10.10"
  },
  "orig_nbformat": 4
 },
 "nbformat": 4,
 "nbformat_minor": 2
}
