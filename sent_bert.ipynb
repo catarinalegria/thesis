{
 "cells": [
  {
   "cell_type": "code",
   "execution_count": 1,
   "metadata": {},
   "outputs": [],
   "source": [
    "import requests\n",
    "import json\n",
    "import numpy as np\n",
    "\n",
    "from sentence_transformers import SentenceTransformer\n",
    "\n",
    "from sklearn.metrics.pairwise import cosine_similarity\n",
    "from sklearn.metrics import accuracy_score\n",
    "\n",
    "import math"
   ]
  },
  {
   "cell_type": "code",
   "execution_count": 19,
   "metadata": {},
   "outputs": [
    {
     "name": "stdout",
     "output_type": "stream",
     "text": [
      "1000\n"
     ]
    }
   ],
   "source": [
    "model = SentenceTransformer('all-MiniLM-L6-v2')\n",
    "\n",
    "characters = ['Monica Geller', 'Joey Tribbiani', 'Chandler Bing', 'Phoebe Buffay', 'Ross Geller', 'Rachel Green', 'others']\n",
    "\n",
    "#characters = ['Monica Geller', 'Joey Tribbiani', 'Chandler Bing', 'Phoebe Buffay', 'Ross Geller', 'Rachel Green']\n",
    "\n",
    "sentences = []\n",
    "\n",
    "for character in characters:\n",
    "    f = open(character + \".txt\", \"r\")\n",
    "    lines = f.readlines()\n",
    "    sentences.append(lines)\n",
    "\n",
    "i=0\n",
    "embeddings = {}\n",
    "for character in characters:\n",
    "    embeddings[character] = model.encode(sentences[i])\n",
    "    i+=1\n",
    "\n",
    "\n",
    "#to confirm number of lines used to create the embedding\n",
    "print(len(embeddings['Monica Geller']))\n",
    "\n",
    "for character in characters:\n",
    "\n",
    "    mean = embeddings[character][0]\n",
    "    for embedding in embeddings[character]:\n",
    "        mean += embedding\n",
    "    \n",
    "    embeddings[character] = mean\n",
    "\n"
   ]
  },
  {
   "cell_type": "code",
   "execution_count": 3,
   "metadata": {},
   "outputs": [],
   "source": [
    "seasons = []\n",
    "\n",
    "for i in range(1,11):\n",
    "\n",
    "    # load season i\n",
    "    if i<10:\n",
    "        json_file = 'https://raw.githubusercontent.com/emorynlp/character-mining/master/json/friends_season_0'+str(i)+'.json'\n",
    "    else:\n",
    "        json_file = 'https://raw.githubusercontent.com/emorynlp/character-mining/master/json/friends_season_10.json'\n",
    "    \n",
    "    r = requests.get(json_file)\n",
    "    \n",
    "    seasons.append(json.loads(r.text))"
   ]
  },
  {
   "cell_type": "code",
   "execution_count": 4,
   "metadata": {},
   "outputs": [],
   "source": [
    "def tf_idf_calculator(lines):    \n",
    "    # Compute the term frequency of each word in each sentence\n",
    "    tf = []\n",
    "    \n",
    "    for sentence in lines:\n",
    "        tf_sentence = {}\n",
    "        for word in sentence.split():\n",
    "            tf_sentence[word] = tf_sentence.get(word, 0) + 1\n",
    "        tf.append(tf_sentence)\n",
    "\n",
    "    # Compute the inverse document frequency of each word\n",
    "    idf = {}\n",
    "    for sentence in lines:\n",
    "        for word in sentence.split():\n",
    "            idf[word] = idf.get(word, 0) + 1\n",
    "    for word in idf:\n",
    "        idf[word] = math.log(len(lines) / idf[word])\n",
    "\n",
    "    # Compute the tf-idf of each sentence\n",
    "    tf_idf = []\n",
    "    for i, sentence in enumerate(lines):\n",
    "        tf_idf_sentence = 0\n",
    "        for word in tf[i]:\n",
    "            tf_idf_sentence += tf[i][word] * idf[word]\n",
    "        tf_idf.append(tf_idf_sentence)\n",
    "    \n",
    "    return tf_idf"
   ]
  },
  {
   "cell_type": "code",
   "execution_count": 5,
   "metadata": {},
   "outputs": [],
   "source": [
    "all_lines = []\n",
    "for season in seasons:\n",
    "    for episode in season['episodes']:\n",
    "        for scene in episode['scenes']:\n",
    "            for utterance in scene['utterances']:\n",
    "                if utterance['speakers'] != []:\n",
    "                    all_lines.append(utterance['transcript'])\n",
    "\n",
    "#remove duplicates\n",
    "all_lines = list( dict.fromkeys(all_lines) )\n",
    "\n",
    "tf_idf = tf_idf_calculator(all_lines)\n",
    "\n",
    "all_lines_tf_idf = []\n",
    "\n",
    "#format: all_lines_tf_idf = [...,[tf-idf score ,sentence],...]\n",
    "for i,sentence in enumerate(all_lines):\n",
    "    cell = []\n",
    "    cell= [tf_idf[i], sentence]\n",
    "    all_lines_tf_idf.append(cell)\n",
    "    \n",
    "# lower -> higher     \n",
    "sorted_list = sorted(all_lines_tf_idf)\n",
    "\n",
    "tf_idfs_utterances = []\n",
    "\n",
    "#get only the strings\n",
    "for elem in sorted_list:\n",
    "    tf_idfs_utterances.append(elem[1])\n",
    "\n",
    "\n",
    "#for elem in sorted_list:\n",
    "#    print(elem)\n"
   ]
  },
  {
   "cell_type": "code",
   "execution_count": 6,
   "metadata": {},
   "outputs": [],
   "source": [
    "def compute_similarity(vector):\n",
    "\n",
    "    angles = {}\n",
    "\n",
    "    for character in characters:\n",
    "        angles[character] = cosine_similarity(vector.reshape(1,-1), embeddings[character].reshape(1,-1))[0][0]\n",
    "\n",
    "    \n",
    "    \n",
    "    #Smaller angles between vectors produce larger cosine values, indicating greater cosine similarity\n",
    "\n",
    "    character = [i for i in angles if angles[i]==max(angles.values())]\n",
    "\n",
    "\n",
    "    return character[0]\n",
    "\n",
    "\n",
    "all_sentences = []\n",
    "\n",
    "for s in sentences:\n",
    "    for l in s:\n",
    "        all_sentences.append(l)\n"
   ]
  },
  {
   "cell_type": "code",
   "execution_count": 33,
   "metadata": {},
   "outputs": [
    {
     "name": "stdout",
     "output_type": "stream",
     "text": [
      "9.156117452467125\n",
      "15.238360381900659\n"
     ]
    }
   ],
   "source": [
    "predicted = []\n",
    "real = []\n",
    "\n",
    "correct = 0\n",
    "total = 0\n",
    "\n",
    "for season in seasons:\n",
    "    for episode in season['episodes']:\n",
    "        for scene in episode['scenes']:\n",
    "            for utterance in scene['utterances']:\n",
    "                if len(utterance['speakers']) == 1 and utterance['transcript'] not in all_sentences:\n",
    "\n",
    "                    total += 1\n",
    "\n",
    "                    line_embed = model.encode(utterance['transcript'])\n",
    "    \n",
    "                    pred = compute_similarity(line_embed)\n",
    "\n",
    "                    predicted.append(pred)\n",
    "                    real.append(utterance['speakers'][0])\n",
    "\n",
    "                    if pred == utterance['speakers'][0]:\n",
    "                        correct+=1\n",
    "                    elif pred == \"others\" and utterance['speakers'][0] not in ['Monica Geller', 'Joey Tribbiani', 'Chandler Bing', 'Phoebe Buffay', 'Ross Geller', 'Rachel Green']:\n",
    "                        correct+=1\n",
    "\n",
    "                    #print(\"predicted :\", pred)\n",
    "                    #print(\"real:\", utterance['speakers'][0])\n",
    "\n",
    "                    \n",
    "print(accuracy_score(real, predicted)*100)\n",
    "\n",
    "accuracy = (float(correct)/total)*100\n",
    "\n",
    "print(accuracy)"
   ]
  },
  {
   "attachments": {},
   "cell_type": "markdown",
   "metadata": {},
   "source": [
    "classifier WITH filter in the test set"
   ]
  },
  {
   "cell_type": "code",
   "execution_count": 18,
   "metadata": {},
   "outputs": [
    {
     "name": "stdout",
     "output_type": "stream",
     "text": [
      "20.27194355535827\n",
      "20.27194355535827\n"
     ]
    }
   ],
   "source": [
    "predicted = []\n",
    "real = []\n",
    "\n",
    "correct = 0\n",
    "total = 0\n",
    "\n",
    "\n",
    "threshold = 15\n",
    "\n",
    "for season in seasons:\n",
    "    for episode in season['episodes']:\n",
    "        for scene in episode['scenes']:\n",
    "            for utterance in scene['utterances']:\n",
    "                if len(utterance['speakers']) == 1 and utterance['transcript'] not in all_sentences:\n",
    "\n",
    "                    index = tf_idfs_utterances.index(utterance['transcript'])\n",
    "\n",
    "                    if sorted_list[index][0] >= 20:\n",
    "\n",
    "                        total += 1\n",
    "\n",
    "                        line_embed = model.encode(utterance['transcript'])\n",
    "        \n",
    "                        pred = compute_similarity(line_embed)\n",
    "\n",
    "                        predicted.append(pred)\n",
    "                        real.append(utterance['speakers'][0])\n",
    "\n",
    "                        if pred == utterance['speakers'][0]:\n",
    "                            correct+=1\n",
    "                        elif pred == \"others\" and utterance['speakers'][0] not in ['Monica Geller', 'Joey Tribbiani', 'Chandler Bing', 'Phoebe Buffay', 'Ross Geller', 'Rachel Green']:\n",
    "                            correct+=1\n",
    "\n",
    "                        #print(\"predicted :\", pred)\n",
    "                        #print(\"real:\", utterance['speakers'][0])\n",
    "\n",
    "                    \n",
    "print(accuracy_score(real, predicted)*100)\n",
    "\n",
    "accuracy = (float(correct)/total)*100\n",
    "\n",
    "print(accuracy)"
   ]
  },
  {
   "cell_type": "code",
   "execution_count": null,
   "metadata": {},
   "outputs": [],
   "source": [
    "\n",
    "51367"
   ]
  }
 ],
 "metadata": {
  "kernelspec": {
   "display_name": "nkproj",
   "language": "python",
   "name": "nkproj"
  },
  "language_info": {
   "codemirror_mode": {
    "name": "ipython",
    "version": 3
   },
   "file_extension": ".py",
   "mimetype": "text/x-python",
   "name": "python",
   "nbconvert_exporter": "python",
   "pygments_lexer": "ipython3",
   "version": "3.10.10"
  },
  "orig_nbformat": 4
 },
 "nbformat": 4,
 "nbformat_minor": 2
}
